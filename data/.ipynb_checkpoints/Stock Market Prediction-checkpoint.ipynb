{
 "cells": [
  {
   "cell_type": "markdown",
   "id": "320da477-f55a-4863-aea5-22d943dec28f",
   "metadata": {},
   "source": [
    "# Stock Market Prediction"
   ]
  },
  {
   "cell_type": "code",
   "execution_count": 1,
   "id": "4ed97940-2823-4d40-a037-b8c2f1f3486e",
   "metadata": {},
   "outputs": [],
   "source": [
    "import pandas as pd\n",
    "import numpy as np "
   ]
  },
  {
   "cell_type": "code",
   "execution_count": 6,
   "id": "d647fca9-25d6-42cb-b645-f7fa1ee35baa",
   "metadata": {},
   "outputs": [],
   "source": [
    "df = pd.read_csv(r\"C:\\Users\\delig\\Documents\\Python Scripts\\CYO_Project_Group_E\\data\\zomato.csv\")"
   ]
  },
  {
   "cell_type": "code",
   "execution_count": 7,
   "id": "102a3b64-2512-4db9-aa42-52972fe78ea1",
   "metadata": {},
   "outputs": [
    {
     "data": {
      "text/html": [
       "<div>\n",
       "<style scoped>\n",
       "    .dataframe tbody tr th:only-of-type {\n",
       "        vertical-align: middle;\n",
       "    }\n",
       "\n",
       "    .dataframe tbody tr th {\n",
       "        vertical-align: top;\n",
       "    }\n",
       "\n",
       "    .dataframe thead th {\n",
       "        text-align: right;\n",
       "    }\n",
       "</style>\n",
       "<table border=\"1\" class=\"dataframe\">\n",
       "  <thead>\n",
       "    <tr style=\"text-align: right;\">\n",
       "      <th></th>\n",
       "      <th>Date</th>\n",
       "      <th>Open</th>\n",
       "      <th>High</th>\n",
       "      <th>Low</th>\n",
       "      <th>Close</th>\n",
       "      <th>Adj Close</th>\n",
       "      <th>Volume</th>\n",
       "    </tr>\n",
       "  </thead>\n",
       "  <tbody>\n",
       "    <tr>\n",
       "      <th>0</th>\n",
       "      <td>2021-07-23</td>\n",
       "      <td>116.000000</td>\n",
       "      <td>138.899994</td>\n",
       "      <td>115.000000</td>\n",
       "      <td>126.000000</td>\n",
       "      <td>126.000000</td>\n",
       "      <td>694895290</td>\n",
       "    </tr>\n",
       "    <tr>\n",
       "      <th>1</th>\n",
       "      <td>2021-07-26</td>\n",
       "      <td>126.349998</td>\n",
       "      <td>143.750000</td>\n",
       "      <td>125.300003</td>\n",
       "      <td>140.649994</td>\n",
       "      <td>140.649994</td>\n",
       "      <td>249723854</td>\n",
       "    </tr>\n",
       "    <tr>\n",
       "      <th>2</th>\n",
       "      <td>2021-07-27</td>\n",
       "      <td>141.699997</td>\n",
       "      <td>147.800003</td>\n",
       "      <td>127.750000</td>\n",
       "      <td>132.899994</td>\n",
       "      <td>132.899994</td>\n",
       "      <td>240341900</td>\n",
       "    </tr>\n",
       "    <tr>\n",
       "      <th>3</th>\n",
       "      <td>2021-07-28</td>\n",
       "      <td>131.000000</td>\n",
       "      <td>135.000000</td>\n",
       "      <td>123.550003</td>\n",
       "      <td>131.199997</td>\n",
       "      <td>131.199997</td>\n",
       "      <td>159793731</td>\n",
       "    </tr>\n",
       "    <tr>\n",
       "      <th>4</th>\n",
       "      <td>2021-07-29</td>\n",
       "      <td>134.949997</td>\n",
       "      <td>144.000000</td>\n",
       "      <td>132.199997</td>\n",
       "      <td>141.550003</td>\n",
       "      <td>141.550003</td>\n",
       "      <td>117973089</td>\n",
       "    </tr>\n",
       "    <tr>\n",
       "      <th>...</th>\n",
       "      <td>...</td>\n",
       "      <td>...</td>\n",
       "      <td>...</td>\n",
       "      <td>...</td>\n",
       "      <td>...</td>\n",
       "      <td>...</td>\n",
       "      <td>...</td>\n",
       "    </tr>\n",
       "    <tr>\n",
       "      <th>626</th>\n",
       "      <td>2024-02-01</td>\n",
       "      <td>141.000000</td>\n",
       "      <td>143.500000</td>\n",
       "      <td>138.550003</td>\n",
       "      <td>140.550003</td>\n",
       "      <td>140.550003</td>\n",
       "      <td>70252449</td>\n",
       "    </tr>\n",
       "    <tr>\n",
       "      <th>627</th>\n",
       "      <td>2024-02-02</td>\n",
       "      <td>141.800003</td>\n",
       "      <td>145.000000</td>\n",
       "      <td>141.449997</td>\n",
       "      <td>143.800003</td>\n",
       "      <td>143.800003</td>\n",
       "      <td>78666454</td>\n",
       "    </tr>\n",
       "    <tr>\n",
       "      <th>628</th>\n",
       "      <td>2024-02-05</td>\n",
       "      <td>145.000000</td>\n",
       "      <td>145.399994</td>\n",
       "      <td>138.250000</td>\n",
       "      <td>140.250000</td>\n",
       "      <td>140.250000</td>\n",
       "      <td>54189688</td>\n",
       "    </tr>\n",
       "    <tr>\n",
       "      <th>629</th>\n",
       "      <td>2024-02-06</td>\n",
       "      <td>140.399994</td>\n",
       "      <td>141.800003</td>\n",
       "      <td>138.050003</td>\n",
       "      <td>139.949997</td>\n",
       "      <td>139.949997</td>\n",
       "      <td>46782951</td>\n",
       "    </tr>\n",
       "    <tr>\n",
       "      <th>630</th>\n",
       "      <td>2024-02-07</td>\n",
       "      <td>141.000000</td>\n",
       "      <td>142.899994</td>\n",
       "      <td>139.649994</td>\n",
       "      <td>140.399994</td>\n",
       "      <td>140.399994</td>\n",
       "      <td>75083259</td>\n",
       "    </tr>\n",
       "  </tbody>\n",
       "</table>\n",
       "<p>631 rows × 7 columns</p>\n",
       "</div>"
      ],
      "text/plain": [
       "           Date        Open        High         Low       Close   Adj Close  \\\n",
       "0    2021-07-23  116.000000  138.899994  115.000000  126.000000  126.000000   \n",
       "1    2021-07-26  126.349998  143.750000  125.300003  140.649994  140.649994   \n",
       "2    2021-07-27  141.699997  147.800003  127.750000  132.899994  132.899994   \n",
       "3    2021-07-28  131.000000  135.000000  123.550003  131.199997  131.199997   \n",
       "4    2021-07-29  134.949997  144.000000  132.199997  141.550003  141.550003   \n",
       "..          ...         ...         ...         ...         ...         ...   \n",
       "626  2024-02-01  141.000000  143.500000  138.550003  140.550003  140.550003   \n",
       "627  2024-02-02  141.800003  145.000000  141.449997  143.800003  143.800003   \n",
       "628  2024-02-05  145.000000  145.399994  138.250000  140.250000  140.250000   \n",
       "629  2024-02-06  140.399994  141.800003  138.050003  139.949997  139.949997   \n",
       "630  2024-02-07  141.000000  142.899994  139.649994  140.399994  140.399994   \n",
       "\n",
       "        Volume  \n",
       "0    694895290  \n",
       "1    249723854  \n",
       "2    240341900  \n",
       "3    159793731  \n",
       "4    117973089  \n",
       "..         ...  \n",
       "626   70252449  \n",
       "627   78666454  \n",
       "628   54189688  \n",
       "629   46782951  \n",
       "630   75083259  \n",
       "\n",
       "[631 rows x 7 columns]"
      ]
     },
     "execution_count": 7,
     "metadata": {},
     "output_type": "execute_result"
    }
   ],
   "source": [
    "df"
   ]
  },
  {
   "cell_type": "code",
   "execution_count": 9,
   "id": "ba0648e6-485e-4af0-b3d1-75d8e3f57884",
   "metadata": {},
   "outputs": [
    {
     "data": {
      "text/plain": [
       "Date         0\n",
       "Open         0\n",
       "High         0\n",
       "Low          0\n",
       "Close        0\n",
       "Adj Close    0\n",
       "Volume       0\n",
       "dtype: int64"
      ]
     },
     "execution_count": 9,
     "metadata": {},
     "output_type": "execute_result"
    }
   ],
   "source": [
    "df.isnull().sum()"
   ]
  },
  {
   "cell_type": "code",
   "execution_count": 10,
   "id": "6e274125-64e3-467f-a60f-8b12e43e61a0",
   "metadata": {},
   "outputs": [
    {
     "data": {
      "text/html": [
       "<div>\n",
       "<style scoped>\n",
       "    .dataframe tbody tr th:only-of-type {\n",
       "        vertical-align: middle;\n",
       "    }\n",
       "\n",
       "    .dataframe tbody tr th {\n",
       "        vertical-align: top;\n",
       "    }\n",
       "\n",
       "    .dataframe thead th {\n",
       "        text-align: right;\n",
       "    }\n",
       "</style>\n",
       "<table border=\"1\" class=\"dataframe\">\n",
       "  <thead>\n",
       "    <tr style=\"text-align: right;\">\n",
       "      <th></th>\n",
       "      <th>Open</th>\n",
       "      <th>High</th>\n",
       "      <th>Low</th>\n",
       "      <th>Close</th>\n",
       "      <th>Adj Close</th>\n",
       "      <th>Volume</th>\n",
       "    </tr>\n",
       "  </thead>\n",
       "  <tbody>\n",
       "    <tr>\n",
       "      <th>count</th>\n",
       "      <td>631.000000</td>\n",
       "      <td>631.000000</td>\n",
       "      <td>631.000000</td>\n",
       "      <td>631.000000</td>\n",
       "      <td>631.000000</td>\n",
       "      <td>6.310000e+02</td>\n",
       "    </tr>\n",
       "    <tr>\n",
       "      <th>mean</th>\n",
       "      <td>90.011252</td>\n",
       "      <td>91.835737</td>\n",
       "      <td>87.868304</td>\n",
       "      <td>89.707686</td>\n",
       "      <td>89.707686</td>\n",
       "      <td>6.731737e+07</td>\n",
       "    </tr>\n",
       "    <tr>\n",
       "      <th>std</th>\n",
       "      <td>32.757639</td>\n",
       "      <td>33.319545</td>\n",
       "      <td>31.900849</td>\n",
       "      <td>32.621900</td>\n",
       "      <td>32.621900</td>\n",
       "      <td>7.461030e+07</td>\n",
       "    </tr>\n",
       "    <tr>\n",
       "      <th>min</th>\n",
       "      <td>40.849998</td>\n",
       "      <td>44.400002</td>\n",
       "      <td>40.599998</td>\n",
       "      <td>41.650002</td>\n",
       "      <td>41.650002</td>\n",
       "      <td>0.000000e+00</td>\n",
       "    </tr>\n",
       "    <tr>\n",
       "      <th>25%</th>\n",
       "      <td>62.549999</td>\n",
       "      <td>63.450001</td>\n",
       "      <td>61.125000</td>\n",
       "      <td>62.074998</td>\n",
       "      <td>62.074998</td>\n",
       "      <td>2.800788e+07</td>\n",
       "    </tr>\n",
       "    <tr>\n",
       "      <th>50%</th>\n",
       "      <td>80.000000</td>\n",
       "      <td>81.000000</td>\n",
       "      <td>78.099998</td>\n",
       "      <td>79.699997</td>\n",
       "      <td>79.699997</td>\n",
       "      <td>4.759710e+07</td>\n",
       "    </tr>\n",
       "    <tr>\n",
       "      <th>75%</th>\n",
       "      <td>124.474998</td>\n",
       "      <td>126.750000</td>\n",
       "      <td>121.525002</td>\n",
       "      <td>124.599998</td>\n",
       "      <td>124.599998</td>\n",
       "      <td>7.525439e+07</td>\n",
       "    </tr>\n",
       "    <tr>\n",
       "      <th>max</th>\n",
       "      <td>161.149994</td>\n",
       "      <td>169.000000</td>\n",
       "      <td>154.250000</td>\n",
       "      <td>160.300003</td>\n",
       "      <td>160.300003</td>\n",
       "      <td>6.948953e+08</td>\n",
       "    </tr>\n",
       "  </tbody>\n",
       "</table>\n",
       "</div>"
      ],
      "text/plain": [
       "             Open        High         Low       Close   Adj Close  \\\n",
       "count  631.000000  631.000000  631.000000  631.000000  631.000000   \n",
       "mean    90.011252   91.835737   87.868304   89.707686   89.707686   \n",
       "std     32.757639   33.319545   31.900849   32.621900   32.621900   \n",
       "min     40.849998   44.400002   40.599998   41.650002   41.650002   \n",
       "25%     62.549999   63.450001   61.125000   62.074998   62.074998   \n",
       "50%     80.000000   81.000000   78.099998   79.699997   79.699997   \n",
       "75%    124.474998  126.750000  121.525002  124.599998  124.599998   \n",
       "max    161.149994  169.000000  154.250000  160.300003  160.300003   \n",
       "\n",
       "             Volume  \n",
       "count  6.310000e+02  \n",
       "mean   6.731737e+07  \n",
       "std    7.461030e+07  \n",
       "min    0.000000e+00  \n",
       "25%    2.800788e+07  \n",
       "50%    4.759710e+07  \n",
       "75%    7.525439e+07  \n",
       "max    6.948953e+08  "
      ]
     },
     "execution_count": 10,
     "metadata": {},
     "output_type": "execute_result"
    }
   ],
   "source": [
    "df.describe()"
   ]
  },
  {
   "cell_type": "code",
   "execution_count": 11,
   "id": "40620d1e-0048-4147-9478-acb421b1d7b0",
   "metadata": {},
   "outputs": [
    {
     "ename": "ModuleNotFoundError",
     "evalue": "No module named 'skimpy'",
     "output_type": "error",
     "traceback": [
      "\u001b[1;31m---------------------------------------------------------------------------\u001b[0m",
      "\u001b[1;31mModuleNotFoundError\u001b[0m                       Traceback (most recent call last)",
      "Cell \u001b[1;32mIn[11], line 1\u001b[0m\n\u001b[1;32m----> 1\u001b[0m \u001b[38;5;28;01mimport\u001b[39;00m \u001b[38;5;21;01mskimpy\u001b[39;00m \u001b[38;5;28;01mas\u001b[39;00m \u001b[38;5;21;01msk\u001b[39;00m\n",
      "\u001b[1;31mModuleNotFoundError\u001b[0m: No module named 'skimpy'"
     ]
    }
   ],
   "source": [
    "import skimpy as sk"
   ]
  },
  {
   "cell_type": "code",
   "execution_count": null,
   "id": "da84baa8-b76c-429d-b640-b5182bd18882",
   "metadata": {},
   "outputs": [],
   "source": []
  },
  {
   "cell_type": "code",
   "execution_count": null,
   "id": "8485d86a-82ee-48e7-b45f-b11c031e7674",
   "metadata": {},
   "outputs": [],
   "source": []
  },
  {
   "cell_type": "code",
   "execution_count": null,
   "id": "5e801064-7123-4f1c-a780-7a361d6114db",
   "metadata": {},
   "outputs": [],
   "source": []
  },
  {
   "cell_type": "code",
   "execution_count": null,
   "id": "f7234fa7-e001-4ab1-aadd-15af1c61cfdb",
   "metadata": {},
   "outputs": [],
   "source": []
  },
  {
   "cell_type": "code",
   "execution_count": null,
   "id": "c8fb088b-666f-45bc-8573-8c49d46ee280",
   "metadata": {},
   "outputs": [],
   "source": []
  },
  {
   "cell_type": "code",
   "execution_count": null,
   "id": "d231d931-38cf-4198-ba0e-17826a68fe4d",
   "metadata": {},
   "outputs": [],
   "source": []
  },
  {
   "cell_type": "code",
   "execution_count": null,
   "id": "828bbb9c-6b38-4a6d-abad-586ce06cde4c",
   "metadata": {},
   "outputs": [],
   "source": []
  },
  {
   "cell_type": "code",
   "execution_count": null,
   "id": "418c6e12-18cf-4588-bfe7-2a7749efa349",
   "metadata": {},
   "outputs": [],
   "source": []
  },
  {
   "cell_type": "code",
   "execution_count": null,
   "id": "4586f3aa-f956-41e4-9397-62b2084ae74e",
   "metadata": {},
   "outputs": [],
   "source": []
  },
  {
   "cell_type": "code",
   "execution_count": null,
   "id": "0f717c79-1844-46b5-b1a2-24c11d5d9fb2",
   "metadata": {},
   "outputs": [],
   "source": []
  },
  {
   "cell_type": "code",
   "execution_count": null,
   "id": "2bb0b103-c613-4137-b763-6ea8a97ba223",
   "metadata": {},
   "outputs": [],
   "source": []
  },
  {
   "cell_type": "code",
   "execution_count": null,
   "id": "032534c4-b439-4e1d-92f3-64b9f874089c",
   "metadata": {},
   "outputs": [],
   "source": []
  },
  {
   "cell_type": "code",
   "execution_count": null,
   "id": "b2e47c5e-9536-40e8-b3a1-0251bb1d5079",
   "metadata": {},
   "outputs": [],
   "source": []
  },
  {
   "cell_type": "code",
   "execution_count": null,
   "id": "04276c0a-9b8c-4405-a96a-b488fdffef76",
   "metadata": {},
   "outputs": [],
   "source": []
  },
  {
   "cell_type": "code",
   "execution_count": null,
   "id": "b0f651fc-2de9-41f5-9a31-4c9d599c1ce0",
   "metadata": {},
   "outputs": [],
   "source": []
  },
  {
   "cell_type": "code",
   "execution_count": null,
   "id": "b7d7bacf-143b-4326-b6fa-4fd8d3996af3",
   "metadata": {},
   "outputs": [],
   "source": []
  },
  {
   "cell_type": "code",
   "execution_count": null,
   "id": "571201ca-05b4-40d5-a0e3-67f456f561bf",
   "metadata": {},
   "outputs": [],
   "source": []
  },
  {
   "cell_type": "code",
   "execution_count": null,
   "id": "719e5e85-dd59-4471-ad26-ae868f307994",
   "metadata": {},
   "outputs": [],
   "source": []
  },
  {
   "cell_type": "code",
   "execution_count": null,
   "id": "a7bf4477-8f7c-4b34-81ea-8f9f48920915",
   "metadata": {},
   "outputs": [],
   "source": []
  },
  {
   "cell_type": "code",
   "execution_count": null,
   "id": "c8bb08e2-f5b7-43c4-b388-2ec72ee5612a",
   "metadata": {},
   "outputs": [],
   "source": []
  },
  {
   "cell_type": "code",
   "execution_count": null,
   "id": "7e56f395-8d75-43e0-b728-db9ae1cac1ca",
   "metadata": {},
   "outputs": [],
   "source": []
  },
  {
   "cell_type": "code",
   "execution_count": null,
   "id": "04feaee6-0f08-4c63-812a-5677dd819e5e",
   "metadata": {},
   "outputs": [],
   "source": []
  },
  {
   "cell_type": "code",
   "execution_count": null,
   "id": "4f0006e3-7f70-4939-bb2b-58ea5f1932a5",
   "metadata": {},
   "outputs": [],
   "source": []
  },
  {
   "cell_type": "code",
   "execution_count": null,
   "id": "6abbb62f-4564-44aa-8eeb-626c70c18aa8",
   "metadata": {},
   "outputs": [],
   "source": []
  },
  {
   "cell_type": "code",
   "execution_count": null,
   "id": "a6a2ebc5-33e6-44c0-b9c0-f57787630890",
   "metadata": {},
   "outputs": [],
   "source": []
  },
  {
   "cell_type": "code",
   "execution_count": null,
   "id": "f7490320-ca49-4123-bd8e-44c633efa112",
   "metadata": {},
   "outputs": [],
   "source": []
  },
  {
   "cell_type": "code",
   "execution_count": null,
   "id": "84454085-57be-49fa-878a-c9f2d1599354",
   "metadata": {},
   "outputs": [],
   "source": []
  },
  {
   "cell_type": "code",
   "execution_count": null,
   "id": "47ddbdbc-9388-4a86-8f2e-1393fcd13685",
   "metadata": {},
   "outputs": [],
   "source": []
  },
  {
   "cell_type": "code",
   "execution_count": null,
   "id": "8b328a3a-4d32-4d2e-83e0-e44e823ac33c",
   "metadata": {},
   "outputs": [],
   "source": []
  },
  {
   "cell_type": "code",
   "execution_count": null,
   "id": "3b0970e5-e932-4b48-bdd2-91dcb9d87cb8",
   "metadata": {},
   "outputs": [],
   "source": []
  },
  {
   "cell_type": "code",
   "execution_count": null,
   "id": "12f1e80a-ab1d-4a5b-b622-04f8f31bc753",
   "metadata": {},
   "outputs": [],
   "source": []
  }
 ],
 "metadata": {
  "kernelspec": {
   "display_name": "Python 3 (ipykernel)",
   "language": "python",
   "name": "python3"
  },
  "language_info": {
   "codemirror_mode": {
    "name": "ipython",
    "version": 3
   },
   "file_extension": ".py",
   "mimetype": "text/x-python",
   "name": "python",
   "nbconvert_exporter": "python",
   "pygments_lexer": "ipython3",
   "version": "3.12.3"
  }
 },
 "nbformat": 4,
 "nbformat_minor": 5
}
